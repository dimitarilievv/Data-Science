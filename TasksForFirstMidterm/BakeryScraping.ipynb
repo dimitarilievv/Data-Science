{
 "cells": [
  {
   "cell_type": "code",
   "execution_count": 390,
   "id": "6b3d464c-0cbe-4364-a72f-606796829754",
   "metadata": {},
   "outputs": [],
   "source": [
    "from selenium import webdriver\n",
    "from selenium.webdriver.common.by import By\n",
    "import pandas as pd"
   ]
  },
  {
   "cell_type": "code",
   "execution_count": 414,
   "id": "ea8fc11d-65cf-41eb-95fd-a6513f0bf2ee",
   "metadata": {},
   "outputs": [
    {
     "name": "stdout",
     "output_type": "stream",
     "text": [
      "https://paket.mk/category/hrana-i-pijalaci-pekara\n"
     ]
    }
   ],
   "source": [
    "driver = webdriver.Chrome()\n",
    "driver.get(\"https://paket.mk/category/hrana-i-pijalaci-pekara\")\n",
    "print(driver.current_url)"
   ]
  },
  {
   "cell_type": "code",
   "execution_count": 416,
   "id": "dec2e163-21f5-460a-9920-60c46ad99f40",
   "metadata": {},
   "outputs": [
    {
     "data": {
      "text/plain": [
       "('Жито Лукс Бриош леб 350гр',\n",
       " '64',\n",
       " 'https://paket.mk/product/zito-luks-brios-leb-350gr')"
      ]
     },
     "execution_count": 416,
     "metadata": {},
     "output_type": "execute_result"
    }
   ],
   "source": [
    "products=driver.find_element(By.CSS_SELECTOR, '.product-card')\n",
    "\n",
    "titles=driver.find_elements(By.CSS_SELECTOR,'#portal-main > div > div > div > div > div > div > p')\n",
    "prices=driver.find_elements(By.CSS_SELECTOR,'#portal-main > div > div > div > div > div > div > div > div > div > span.font-semibold.italic.tracking-tight')\n",
    "urls=driver.find_elements(By.CSS_SELECTOR,'#portal-main > div > div > div > div > div > div > div > a')\n",
    "titles[1].text,prices[1].text,urls[1].get_attribute(\"href\")\n"
   ]
  },
  {
   "cell_type": "code",
   "execution_count": 418,
   "id": "eb86948c-3110-4300-b2b2-3d48c8281ed9",
   "metadata": {},
   "outputs": [
    {
     "data": {
      "text/html": [
       "<div>\n",
       "<style scoped>\n",
       "    .dataframe tbody tr th:only-of-type {\n",
       "        vertical-align: middle;\n",
       "    }\n",
       "\n",
       "    .dataframe tbody tr th {\n",
       "        vertical-align: top;\n",
       "    }\n",
       "\n",
       "    .dataframe thead th {\n",
       "        text-align: right;\n",
       "    }\n",
       "</style>\n",
       "<table border=\"1\" class=\"dataframe\">\n",
       "  <thead>\n",
       "    <tr style=\"text-align: right;\">\n",
       "      <th></th>\n",
       "      <th>Titles</th>\n",
       "      <th>Prices</th>\n",
       "      <th>URLs</th>\n",
       "      <th>Codes</th>\n",
       "    </tr>\n",
       "  </thead>\n",
       "  <tbody>\n",
       "    <tr>\n",
       "      <th>0</th>\n",
       "      <td>Силбо бел леб, 500гр</td>\n",
       "      <td>33</td>\n",
       "      <td>https://paket.mk/product/silbo-bel-leb-500gr</td>\n",
       "      <td>SLB15003</td>\n",
       "    </tr>\n",
       "    <tr>\n",
       "      <th>1</th>\n",
       "      <td>Жито Лукс Бриош леб 350гр</td>\n",
       "      <td>64</td>\n",
       "      <td>https://paket.mk/product/zito-luks-brios-leb-3...</td>\n",
       "      <td>ZTL15231</td>\n",
       "    </tr>\n",
       "    <tr>\n",
       "      <th>2</th>\n",
       "      <td>Жито Лукс Пченичен бел тост леб XL парчиња 500гр</td>\n",
       "      <td>85</td>\n",
       "      <td>https://paket.mk/product/zito-luks-pcenicen-be...</td>\n",
       "      <td>ZTL15230</td>\n",
       "    </tr>\n",
       "    <tr>\n",
       "      <th>3</th>\n",
       "      <td>Уни Лукс Бел леб сечен на парчиња 450г.</td>\n",
       "      <td>34</td>\n",
       "      <td>https://paket.mk/product/%D1%83%D0%BD%D0%B8-%D...</td>\n",
       "      <td>VRD20112</td>\n",
       "    </tr>\n",
       "    <tr>\n",
       "      <th>4</th>\n",
       "      <td>Ржан леб 450гр</td>\n",
       "      <td>115</td>\n",
       "      <td>https://paket.mk/product/rzan-leb-450gr</td>\n",
       "      <td>LNO01130</td>\n",
       "    </tr>\n",
       "    <tr>\n",
       "      <th>...</th>\n",
       "      <td>...</td>\n",
       "      <td>...</td>\n",
       "      <td>...</td>\n",
       "      <td>...</td>\n",
       "    </tr>\n",
       "    <tr>\n",
       "      <th>70</th>\n",
       "      <td>El Sabor Тако сет за вечера 335гр</td>\n",
       "      <td>49</td>\n",
       "      <td>https://paket.mk/product/tortilla-mexicana-muc...</td>\n",
       "      <td>RDN14325</td>\n",
       "    </tr>\n",
       "    <tr>\n",
       "      <th>71</th>\n",
       "      <td>Yummy Original Тортиља 6 пити</td>\n",
       "      <td>169</td>\n",
       "      <td>https://paket.mk/product/el-sabor-integralni-t...</td>\n",
       "      <td>VND10012</td>\n",
       "    </tr>\n",
       "    <tr>\n",
       "      <th>72</th>\n",
       "      <td>Donia Обланда лист 200гр</td>\n",
       "      <td>23</td>\n",
       "      <td>https://paket.mk/product/tortilla-mexicana-cam...</td>\n",
       "      <td>RDN16479</td>\n",
       "    </tr>\n",
       "    <tr>\n",
       "      <th>73</th>\n",
       "      <td>Aleksandrija Fruska Gora Безглутенска презла 3...</td>\n",
       "      <td>35</td>\n",
       "      <td>https://paket.mk/product/deli-sun-%D0%BF%D1%87...</td>\n",
       "      <td>BIM15311</td>\n",
       "    </tr>\n",
       "    <tr>\n",
       "      <th>74</th>\n",
       "      <td>Кибела Лебни трошки 200гр</td>\n",
       "      <td>25</td>\n",
       "      <td>https://paket.mk/product/yummy-tortilja-pita-s...</td>\n",
       "      <td>NKS23123</td>\n",
       "    </tr>\n",
       "  </tbody>\n",
       "</table>\n",
       "<p>75 rows × 4 columns</p>\n",
       "</div>"
      ],
      "text/plain": [
       "                                               Titles Prices  \\\n",
       "0                                Силбо бел леб, 500гр     33   \n",
       "1                           Жито Лукс Бриош леб 350гр     64   \n",
       "2    Жито Лукс Пченичен бел тост леб XL парчиња 500гр     85   \n",
       "3             Уни Лукс Бел леб сечен на парчиња 450г.     34   \n",
       "4                                      Ржан леб 450гр    115   \n",
       "..                                                ...    ...   \n",
       "70                  El Sabor Тако сет за вечера 335гр     49   \n",
       "71                      Yummy Original Тортиља 6 пити    169   \n",
       "72                           Donia Обланда лист 200гр     23   \n",
       "73  Aleksandrija Fruska Gora Безглутенска презла 3...     35   \n",
       "74                          Кибела Лебни трошки 200гр     25   \n",
       "\n",
       "                                                 URLs     Codes  \n",
       "0        https://paket.mk/product/silbo-bel-leb-500gr  SLB15003  \n",
       "1   https://paket.mk/product/zito-luks-brios-leb-3...  ZTL15231  \n",
       "2   https://paket.mk/product/zito-luks-pcenicen-be...  ZTL15230  \n",
       "3   https://paket.mk/product/%D1%83%D0%BD%D0%B8-%D...  VRD20112  \n",
       "4             https://paket.mk/product/rzan-leb-450gr  LNO01130  \n",
       "..                                                ...       ...  \n",
       "70  https://paket.mk/product/tortilla-mexicana-muc...  RDN14325  \n",
       "71  https://paket.mk/product/el-sabor-integralni-t...  VND10012  \n",
       "72  https://paket.mk/product/tortilla-mexicana-cam...  RDN16479  \n",
       "73  https://paket.mk/product/deli-sun-%D0%BF%D1%87...  BIM15311  \n",
       "74  https://paket.mk/product/yummy-tortilja-pita-s...  NKS23123  \n",
       "\n",
       "[75 rows x 4 columns]"
      ]
     },
     "execution_count": 418,
     "metadata": {},
     "output_type": "execute_result"
    }
   ],
   "source": [
    "min_length = min(len(title_texts), len(price_texts), len(url_links))\n",
    "\n",
    "title_texts = title_texts[:min_length]\n",
    "price_texts = price_texts[:min_length]\n",
    "url_links = url_links[:min_length]\n",
    "codes=[]\n",
    "for url in url_links:\n",
    "    driver.get(url)  \n",
    "    code_element = driver.find_element(By.CSS_SELECTOR, '#portal-main > div > div > div > div> div > span:nth-child(2)')\n",
    "    codes.append(code_element.text) \n",
    "data = {\n",
    "    'Titles': title_texts,\n",
    "    'Prices': price_texts,\n",
    "    'URLs': url_links,\n",
    "    'Codes':codes\n",
    "}\n",
    "df = pd.DataFrame(data)\n",
    "df"
   ]
  },
  {
   "cell_type": "code",
   "execution_count": null,
   "id": "a78c965d-19ca-4a35-b7b8-a8dc63edfd17",
   "metadata": {},
   "outputs": [],
   "source": []
  }
 ],
 "metadata": {
  "kernelspec": {
   "display_name": "Python 3 (ipykernel)",
   "language": "python",
   "name": "python3"
  },
  "language_info": {
   "codemirror_mode": {
    "name": "ipython",
    "version": 3
   },
   "file_extension": ".py",
   "mimetype": "text/x-python",
   "name": "python",
   "nbconvert_exporter": "python",
   "pygments_lexer": "ipython3",
   "version": "3.12.4"
  }
 },
 "nbformat": 4,
 "nbformat_minor": 5
}
