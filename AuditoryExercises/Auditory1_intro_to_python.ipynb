{
 "nbformat": 4,
 "nbformat_minor": 0,
 "metadata": {
  "colab": {
   "provenance": [],
   "authorship_tag": "ABX9TyNas2PFg7EC6WSfX5dvHAgH"
  },
  "kernelspec": {
   "name": "python3",
   "display_name": "Python 3 (ipykernel)",
   "language": "python"
  },
  "language_info": {
   "name": "python"
  }
 },
 "cells": [
  {
   "cell_type": "code",
   "execution_count": 1,
   "metadata": {
    "id": "BP1dMUOJh1-s",
    "executionInfo": {
     "status": "ok",
     "timestamp": 1729253342763,
     "user_tz": -120,
     "elapsed": 765,
     "user": {
      "displayName": "Dimitar Iliev",
      "userId": "04918616305414868801"
     }
    }
   },
   "outputs": [],
   "source": [
    "dolzina=10\n"
   ]
  },
  {
   "cell_type": "code",
   "source": [
    "str(dolzina)\n"
   ],
   "metadata": {
    "colab": {
     "base_uri": "https://localhost:8080/",
     "height": 35
    },
    "id": "bB6XRviQh_fC",
    "executionInfo": {
     "status": "ok",
     "timestamp": 1729253792182,
     "user_tz": -120,
     "elapsed": 339,
     "user": {
      "displayName": "Dimitar Iliev",
      "userId": "04918616305414868801"
     }
    },
    "outputId": "4551763a-8374-4dbd-c606-2ea11a417b69"
   },
   "execution_count": 3,
   "outputs": [
    {
     "output_type": "execute_result",
     "data": {
      "text/plain": [
       "'10'"
      ],
      "application/vnd.google.colaboratory.intrinsic+json": {
       "type": "string"
      }
     },
     "metadata": {},
     "execution_count": 3
    }
   ]
  },
  {
   "cell_type": "code",
   "source": [
    "str('dolzina')\n"
   ],
   "metadata": {
    "colab": {
     "base_uri": "https://localhost:8080/",
     "height": 35
    },
    "id": "UesdpAbCj0Uk",
    "executionInfo": {
     "status": "ok",
     "timestamp": 1729253824541,
     "user_tz": -120,
     "elapsed": 371,
     "user": {
      "displayName": "Dimitar Iliev",
      "userId": "04918616305414868801"
     }
    },
    "outputId": "540440d5-e6f5-4f13-a2fc-cf48434978bf"
   },
   "execution_count": 4,
   "outputs": [
    {
     "output_type": "execute_result",
     "data": {
      "text/plain": [
       "'dolzina'"
      ],
      "application/vnd.google.colaboratory.intrinsic+json": {
       "type": "string"
      }
     },
     "metadata": {},
     "execution_count": 4
    }
   ]
  },
  {
   "cell_type": "code",
   "source": [
    "x=20\n",
    "y=5\n",
    "z=x/y\n"
   ],
   "metadata": {
    "id": "9c2lP1p2j_Bu",
    "executionInfo": {
     "status": "ok",
     "timestamp": 1729253887883,
     "user_tz": -120,
     "elapsed": 296,
     "user": {
      "displayName": "Dimitar Iliev",
      "userId": "04918616305414868801"
     }
    },
    "ExecuteTime": {
     "end_time": "2024-10-20T15:21:44.979397Z",
     "start_time": "2024-10-20T15:21:44.958201Z"
    }
   },
   "outputs": [],
   "execution_count": 1
  },
  {
   "cell_type": "code",
   "source": [
    "z"
   ],
   "metadata": {
    "colab": {
     "base_uri": "https://localhost:8080/"
    },
    "id": "jcfq1GfckFj3",
    "executionInfo": {
     "status": "ok",
     "timestamp": 1729253895012,
     "user_tz": -120,
     "elapsed": 4,
     "user": {
      "displayName": "Dimitar Iliev",
      "userId": "04918616305414868801"
     }
    },
    "outputId": "6ebd8957-c562-49d7-ca26-3c188a0f37dd",
    "ExecuteTime": {
     "end_time": "2024-10-20T15:21:45.102286Z",
     "start_time": "2024-10-20T15:21:45.082869Z"
    }
   },
   "outputs": [
    {
     "data": {
      "text/plain": [
       "4.0"
      ]
     },
     "execution_count": 2,
     "metadata": {},
     "output_type": "execute_result"
    }
   ],
   "execution_count": 2
  },
  {
   "cell_type": "code",
   "source": [
    "x+z"
   ],
   "metadata": {
    "colab": {
     "base_uri": "https://localhost:8080/"
    },
    "id": "H6Zp9bFDkHIV",
    "executionInfo": {
     "status": "ok",
     "timestamp": 1729253903826,
     "user_tz": -120,
     "elapsed": 409,
     "user": {
      "displayName": "Dimitar Iliev",
      "userId": "04918616305414868801"
     }
    },
    "outputId": "fd62bcee-e0e7-47d0-bb6b-3ae1e2298539"
   },
   "execution_count": 7,
   "outputs": [
    {
     "output_type": "execute_result",
     "data": {
      "text/plain": [
       "24.0"
      ]
     },
     "metadata": {},
     "execution_count": 7
    }
   ]
  },
  {
   "cell_type": "code",
   "source": [
    "x = complex(5, 3)\n",
    "y = 2\n",
    "x"
   ],
   "metadata": {
    "colab": {
     "base_uri": "https://localhost:8080/"
    },
    "id": "CMnXB0qykWF7",
    "executionInfo": {
     "status": "ok",
     "timestamp": 1729254038822,
     "user_tz": -120,
     "elapsed": 3,
     "user": {
      "displayName": "Dimitar Iliev",
      "userId": "04918616305414868801"
     }
    },
    "outputId": "bd1dc408-cb79-49c4-d58c-fd76b3b779da"
   },
   "execution_count": 12,
   "outputs": [
    {
     "output_type": "execute_result",
     "data": {
      "text/plain": [
       "(5+3j)"
      ]
     },
     "metadata": {},
     "execution_count": 12
    }
   ]
  },
  {
   "cell_type": "code",
   "source": [
    " (len('data')+x)*y"
   ],
   "metadata": {
    "colab": {
     "base_uri": "https://localhost:8080/"
    },
    "id": "5WPUWWxpkgOn",
    "executionInfo": {
     "status": "ok",
     "timestamp": 1729254011359,
     "user_tz": -120,
     "elapsed": 301,
     "user": {
      "displayName": "Dimitar Iliev",
      "userId": "04918616305414868801"
     }
    },
    "outputId": "99799685-cdaf-42a5-fc3e-2a7fab98af82"
   },
   "execution_count": 10,
   "outputs": [
    {
     "output_type": "execute_result",
     "data": {
      "text/plain": [
       "(18+6j)"
      ]
     },
     "metadata": {},
     "execution_count": 10
    }
   ]
  },
  {
   "cell_type": "code",
   "source": [
    "integer_var=15\n",
    "string_var='helllou'\n",
    "float_var=15.2\n",
    "bool_var=True"
   ],
   "metadata": {
    "id": "UoJYEcRokh6L",
    "executionInfo": {
     "status": "ok",
     "timestamp": 1729254732985,
     "user_tz": -120,
     "elapsed": 432,
     "user": {
      "displayName": "Dimitar Iliev",
      "userId": "04918616305414868801"
     }
    }
   },
   "execution_count": 29,
   "outputs": []
  },
  {
   "cell_type": "code",
   "source": [
    "print(integer_var)\n",
    "print(string_var)\n",
    "print(float_var)\n",
    "print(bool_var)"
   ],
   "metadata": {
    "colab": {
     "base_uri": "https://localhost:8080/"
    },
    "id": "9UNzJB_DmJ_W",
    "executionInfo": {
     "status": "ok",
     "timestamp": 1729254590581,
     "user_tz": -120,
     "elapsed": 665,
     "user": {
      "displayName": "Dimitar Iliev",
      "userId": "04918616305414868801"
     }
    },
    "outputId": "242d5e73-314e-40dd-b25e-816a1b7de1d4"
   },
   "execution_count": 23,
   "outputs": [
    {
     "output_type": "stream",
     "name": "stdout",
     "text": [
      "15\n",
      "helllou\n",
      "15.2\n",
      "True\n"
     ]
    }
   ]
  },
  {
   "cell_type": "code",
   "source": [
    "print(integer_var, string_var, float_var)"
   ],
   "metadata": {
    "colab": {
     "base_uri": "https://localhost:8080/"
    },
    "id": "n4owtHYimUCX",
    "executionInfo": {
     "status": "ok",
     "timestamp": 1729254484866,
     "user_tz": -120,
     "elapsed": 322,
     "user": {
      "displayName": "Dimitar Iliev",
      "userId": "04918616305414868801"
     }
    },
    "outputId": "1d30e611-c694-4a62-82ba-250dc7183b64"
   },
   "execution_count": 16,
   "outputs": [
    {
     "output_type": "stream",
     "name": "stdout",
     "text": [
      "15 helllou True\n"
     ]
    }
   ]
  },
  {
   "cell_type": "code",
   "source": [
    "type(integer_var),type(float_var)"
   ],
   "metadata": {
    "colab": {
     "base_uri": "https://localhost:8080/"
    },
    "id": "qFvXx80jmXvT",
    "executionInfo": {
     "status": "ok",
     "timestamp": 1729254584932,
     "user_tz": -120,
     "elapsed": 371,
     "user": {
      "displayName": "Dimitar Iliev",
      "userId": "04918616305414868801"
     }
    },
    "outputId": "5c81f784-048b-47a9-e051-a12709b4db8f"
   },
   "execution_count": 22,
   "outputs": [
    {
     "output_type": "execute_result",
     "data": {
      "text/plain": [
       "(int, float)"
      ]
     },
     "metadata": {},
     "execution_count": 22
    }
   ]
  },
  {
   "cell_type": "code",
   "source": [
    "int(float_var)"
   ],
   "metadata": {
    "colab": {
     "base_uri": "https://localhost:8080/"
    },
    "id": "jxs5asI3my4R",
    "executionInfo": {
     "status": "ok",
     "timestamp": 1729254613021,
     "user_tz": -120,
     "elapsed": 546,
     "user": {
      "displayName": "Dimitar Iliev",
      "userId": "04918616305414868801"
     }
    },
    "outputId": "1583c2c0-dff5-4502-e33b-59114466140e"
   },
   "execution_count": 24,
   "outputs": [
    {
     "output_type": "execute_result",
     "data": {
      "text/plain": [
       "15"
      ]
     },
     "metadata": {},
     "execution_count": 24
    }
   ]
  },
  {
   "cell_type": "code",
   "source": [
    "x,y,z=1,2.34,'bye'"
   ],
   "metadata": {
    "id": "t_iUkKi3m2i_",
    "executionInfo": {
     "status": "ok",
     "timestamp": 1729254642935,
     "user_tz": -120,
     "elapsed": 322,
     "user": {
      "displayName": "Dimitar Iliev",
      "userId": "04918616305414868801"
     }
    }
   },
   "execution_count": 25,
   "outputs": []
  },
  {
   "cell_type": "code",
   "source": [
    "print(x,y,z)"
   ],
   "metadata": {
    "colab": {
     "base_uri": "https://localhost:8080/"
    },
    "id": "yM3P78Fsm9aB",
    "executionInfo": {
     "status": "ok",
     "timestamp": 1729254653002,
     "user_tz": -120,
     "elapsed": 316,
     "user": {
      "displayName": "Dimitar Iliev",
      "userId": "04918616305414868801"
     }
    },
    "outputId": "d3fa3734-913e-4989-b9c7-e2d2e536d28f"
   },
   "execution_count": 26,
   "outputs": [
    {
     "output_type": "stream",
     "name": "stdout",
     "text": [
      "1 2.34 bye\n"
     ]
    }
   ]
  },
  {
   "cell_type": "markdown",
   "source": [
    "tuka not e samo za integer_var"
   ],
   "metadata": {
    "id": "1vVnzBPVn8tE"
   }
  },
  {
   "cell_type": "code",
   "source": [
    "if not integer_var>=20 and float_var < 60:\n",
    "  print(\"tukaa\")\n",
    "else:\n",
    "  print(\"ne zamari\")"
   ],
   "metadata": {
    "colab": {
     "base_uri": "https://localhost:8080/"
    },
    "id": "pSvXpiPznIlx",
    "executionInfo": {
     "status": "ok",
     "timestamp": 1729254946205,
     "user_tz": -120,
     "elapsed": 306,
     "user": {
      "displayName": "Dimitar Iliev",
      "userId": "04918616305414868801"
     }
    },
    "outputId": "2685491e-fa5e-4504-b293-10590bc631b8"
   },
   "execution_count": 40,
   "outputs": [
    {
     "output_type": "stream",
     "name": "stdout",
     "text": [
      "tukaa\n"
     ]
    }
   ]
  },
  {
   "cell_type": "code",
   "source": [
    "different_list_element=[1,12.34,'hello']"
   ],
   "metadata": {
    "id": "xGbq0rRfnXlM",
    "executionInfo": {
     "status": "ok",
     "timestamp": 1729255025683,
     "user_tz": -120,
     "elapsed": 415,
     "user": {
      "displayName": "Dimitar Iliev",
      "userId": "04918616305414868801"
     }
    }
   },
   "execution_count": 41,
   "outputs": []
  },
  {
   "cell_type": "code",
   "source": [
    "different_list_element"
   ],
   "metadata": {
    "colab": {
     "base_uri": "https://localhost:8080/"
    },
    "id": "-_eQQFK5obDM",
    "executionInfo": {
     "status": "ok",
     "timestamp": 1729255031994,
     "user_tz": -120,
     "elapsed": 338,
     "user": {
      "displayName": "Dimitar Iliev",
      "userId": "04918616305414868801"
     }
    },
    "outputId": "6d9a684c-de96-4178-910c-93cbf6002143"
   },
   "execution_count": 42,
   "outputs": [
    {
     "output_type": "execute_result",
     "data": {
      "text/plain": [
       "[1, 12.34, 'hello']"
      ]
     },
     "metadata": {},
     "execution_count": 42
    }
   ]
  },
  {
   "cell_type": "markdown",
   "source": [
    "moze i so negativni pocnuvat od kraj na listata"
   ],
   "metadata": {
    "id": "tDzN93jNokDv"
   }
  },
  {
   "cell_type": "code",
   "source": [],
   "metadata": {
    "id": "o62gM-HYomln"
   },
   "execution_count": null,
   "outputs": []
  },
  {
   "cell_type": "code",
   "source": [
    "different_list_element[-1]"
   ],
   "metadata": {
    "colab": {
     "base_uri": "https://localhost:8080/",
     "height": 35
    },
    "id": "qE1ZHFwrohPx",
    "executionInfo": {
     "status": "ok",
     "timestamp": 1729255060718,
     "user_tz": -120,
     "elapsed": 314,
     "user": {
      "displayName": "Dimitar Iliev",
      "userId": "04918616305414868801"
     }
    },
    "outputId": "d7a14eb3-e6bb-4bde-911f-88d05e468e2d"
   },
   "execution_count": 43,
   "outputs": [
    {
     "output_type": "execute_result",
     "data": {
      "text/plain": [
       "'hello'"
      ],
      "application/vnd.google.colaboratory.intrinsic+json": {
       "type": "string"
      }
     },
     "metadata": {},
     "execution_count": 43
    }
   ]
  },
  {
   "cell_type": "code",
   "source": [
    "different_list_element[0:2]"
   ],
   "metadata": {
    "colab": {
     "base_uri": "https://localhost:8080/"
    },
    "id": "Fg4fVjjrom85",
    "executionInfo": {
     "status": "ok",
     "timestamp": 1729255105847,
     "user_tz": -120,
     "elapsed": 559,
     "user": {
      "displayName": "Dimitar Iliev",
      "userId": "04918616305414868801"
     }
    },
    "outputId": "8b1be2ae-45af-4521-9cc7-47ef0d9c562d"
   },
   "execution_count": 45,
   "outputs": [
    {
     "output_type": "execute_result",
     "data": {
      "text/plain": [
       "[1, 12.34]"
      ]
     },
     "metadata": {},
     "execution_count": 45
    }
   ]
  },
  {
   "cell_type": "code",
   "source": [
    "different_list_element[:2] = [\"a\", \"b\"]\n",
    "different_list_element"
   ],
   "metadata": {
    "colab": {
     "base_uri": "https://localhost:8080/"
    },
    "id": "R2KrrJTdo64s",
    "executionInfo": {
     "status": "ok",
     "timestamp": 1729255179064,
     "user_tz": -120,
     "elapsed": 375,
     "user": {
      "displayName": "Dimitar Iliev",
      "userId": "04918616305414868801"
     }
    },
    "outputId": "dc20f5bd-02b3-42e4-95fc-b3ef536806b3"
   },
   "execution_count": 48,
   "outputs": [
    {
     "output_type": "execute_result",
     "data": {
      "text/plain": [
       "['a', 'b', 'hello']"
      ]
     },
     "metadata": {},
     "execution_count": 48
    }
   ]
  },
  {
   "cell_type": "code",
   "source": [
    "different_list_element.insert(2,14131.231)\n",
    "different_list_element"
   ],
   "metadata": {
    "colab": {
     "base_uri": "https://localhost:8080/"
    },
    "id": "GepMxd7ApB46",
    "executionInfo": {
     "status": "ok",
     "timestamp": 1729255214042,
     "user_tz": -120,
     "elapsed": 420,
     "user": {
      "displayName": "Dimitar Iliev",
      "userId": "04918616305414868801"
     }
    },
    "outputId": "59d7a1da-5d34-4e8b-dc88-ea65d3813273"
   },
   "execution_count": 49,
   "outputs": [
    {
     "output_type": "execute_result",
     "data": {
      "text/plain": [
       "['a', 'b', 14131.231, 'hello']"
      ]
     },
     "metadata": {},
     "execution_count": 49
    }
   ]
  },
  {
   "cell_type": "code",
   "source": [
    "different_list_element.append('ehhe')\n",
    "different_list_element"
   ],
   "metadata": {
    "colab": {
     "base_uri": "https://localhost:8080/"
    },
    "id": "IePxeZz_pXbm",
    "executionInfo": {
     "status": "ok",
     "timestamp": 1729255292521,
     "user_tz": -120,
     "elapsed": 396,
     "user": {
      "displayName": "Dimitar Iliev",
      "userId": "04918616305414868801"
     }
    },
    "outputId": "5f6c9050-5373-448c-d2a1-9e9ee6271be7"
   },
   "execution_count": 50,
   "outputs": [
    {
     "output_type": "execute_result",
     "data": {
      "text/plain": [
       "['a', 'b', 14131.231, 'hello', 'ehhe']"
      ]
     },
     "metadata": {},
     "execution_count": 50
    }
   ]
  },
  {
   "cell_type": "code",
   "source": [
    "different_list_element.extend([1,2,3])\n",
    "different_list_element"
   ],
   "metadata": {
    "colab": {
     "base_uri": "https://localhost:8080/"
    },
    "id": "cSQTmH8TpcaS",
    "executionInfo": {
     "status": "ok",
     "timestamp": 1729255318526,
     "user_tz": -120,
     "elapsed": 329,
     "user": {
      "displayName": "Dimitar Iliev",
      "userId": "04918616305414868801"
     }
    },
    "outputId": "9b145f10-0d9c-4773-fea7-37c264bf2558"
   },
   "execution_count": 51,
   "outputs": [
    {
     "output_type": "execute_result",
     "data": {
      "text/plain": [
       "['a', 'b', 14131.231, 'hello', 'ehhe', 1, 2, 3]"
      ]
     },
     "metadata": {},
     "execution_count": 51
    }
   ]
  },
  {
   "cell_type": "code",
   "source": [
    "different_list_element.pop(1)\n",
    "different_list_element"
   ],
   "metadata": {
    "colab": {
     "base_uri": "https://localhost:8080/"
    },
    "id": "wfKNbTL7pis0",
    "executionInfo": {
     "status": "ok",
     "timestamp": 1729255344202,
     "user_tz": -120,
     "elapsed": 378,
     "user": {
      "displayName": "Dimitar Iliev",
      "userId": "04918616305414868801"
     }
    },
    "outputId": "3ff3168a-0161-4cf8-9bd7-d0ea18cc50f1"
   },
   "execution_count": 52,
   "outputs": [
    {
     "output_type": "execute_result",
     "data": {
      "text/plain": [
       "['a', 14131.231, 'hello', 'ehhe', 1, 2, 3]"
      ]
     },
     "metadata": {},
     "execution_count": 52
    }
   ]
  },
  {
   "cell_type": "code",
   "source": [
    "for i in range(0,len(different_list_element),2):\n",
    "  print(i,\"-->\",different_list_element[i])\n",
    ""
   ],
   "metadata": {
    "colab": {
     "base_uri": "https://localhost:8080/"
    },
    "id": "3-7I5BGuppcH",
    "executionInfo": {
     "status": "ok",
     "timestamp": 1729255420146,
     "user_tz": -120,
     "elapsed": 325,
     "user": {
      "displayName": "Dimitar Iliev",
      "userId": "04918616305414868801"
     }
    },
    "outputId": "253c79ea-f87e-4819-ae7c-c3d12dfd4d52"
   },
   "execution_count": 54,
   "outputs": [
    {
     "output_type": "stream",
     "name": "stdout",
     "text": [
      "0 --> a\n",
      "2 --> hello\n",
      "4 --> 1\n",
      "6 --> 3\n"
     ]
    }
   ]
  },
  {
   "cell_type": "code",
   "source": [
    "same_list=[1,22,3,41]\n",
    "new_list = [element for element in same_list if element > 10]\n",
    "new_list"
   ],
   "metadata": {
    "colab": {
     "base_uri": "https://localhost:8080/"
    },
    "id": "FOfB0OwaqG31",
    "executionInfo": {
     "status": "ok",
     "timestamp": 1729255575525,
     "user_tz": -120,
     "elapsed": 319,
     "user": {
      "displayName": "Dimitar Iliev",
      "userId": "04918616305414868801"
     }
    },
    "outputId": "8dfa2e3f-cf3c-4ddb-ee95-a28a33b74018"
   },
   "execution_count": 61,
   "outputs": [
    {
     "output_type": "execute_result",
     "data": {
      "text/plain": [
       "[22, 41]"
      ]
     },
     "metadata": {},
     "execution_count": 61
    }
   ]
  },
  {
   "cell_type": "code",
   "source": [
    "def sum_func(var1,var2):\n",
    "  return var1+var2\n",
    "\n",
    "sum_func(2,3)"
   ],
   "metadata": {
    "colab": {
     "base_uri": "https://localhost:8080/"
    },
    "id": "Eupi0NVKqegA",
    "executionInfo": {
     "status": "ok",
     "timestamp": 1729255623074,
     "user_tz": -120,
     "elapsed": 946,
     "user": {
      "displayName": "Dimitar Iliev",
      "userId": "04918616305414868801"
     }
    },
    "outputId": "9dbfab86-12b7-4a00-b7d3-2fedddbb9c06"
   },
   "execution_count": 62,
   "outputs": [
    {
     "output_type": "execute_result",
     "data": {
      "text/plain": [
       "5"
      ]
     },
     "metadata": {},
     "execution_count": 62
    }
   ]
  },
  {
   "cell_type": "code",
   "source": [
    "def full_name_function(first_name, last_name=\"Last\"):\n",
    "  return \" \".join([first_name, last_name])\n",
    "\n",
    "full_name_function('Dimitar')"
   ],
   "metadata": {
    "colab": {
     "base_uri": "https://localhost:8080/",
     "height": 35
    },
    "id": "7Y16Y6rcq_XL",
    "executionInfo": {
     "status": "ok",
     "timestamp": 1729255717663,
     "user_tz": -120,
     "elapsed": 861,
     "user": {
      "displayName": "Dimitar Iliev",
      "userId": "04918616305414868801"
     }
    },
    "outputId": "aba342de-f811-4b1e-a402-851a3aa18fc1"
   },
   "execution_count": 63,
   "outputs": [
    {
     "output_type": "execute_result",
     "data": {
      "text/plain": [
       "'Dimitar Last'"
      ],
      "application/vnd.google.colaboratory.intrinsic+json": {
       "type": "string"
      }
     },
     "metadata": {},
     "execution_count": 63
    }
   ]
  },
  {
   "cell_type": "markdown",
   "source": [
    "nemenlivi sa ne moze da sa smenat"
   ],
   "metadata": {
    "id": "SYGHQBd3rbRV"
   }
  },
  {
   "cell_type": "code",
   "source": [
    "tuple_example=(1,'jas',2.345)\n",
    "tuple_example[0]"
   ],
   "metadata": {
    "colab": {
     "base_uri": "https://localhost:8080/"
    },
    "id": "vkuU1xDPrEOW",
    "executionInfo": {
     "status": "ok",
     "timestamp": 1729255805038,
     "user_tz": -120,
     "elapsed": 317,
     "user": {
      "displayName": "Dimitar Iliev",
      "userId": "04918616305414868801"
     }
    },
    "outputId": "253f82e3-b6f3-43a4-bc06-5799bdfce3b1"
   },
   "execution_count": 64,
   "outputs": [
    {
     "output_type": "execute_result",
     "data": {
      "text/plain": [
       "1"
      ]
     },
     "metadata": {},
     "execution_count": 64
    }
   ]
  },
  {
   "cell_type": "markdown",
   "source": [
    "ne moze vo set da ima 2 isti elementi i ne moze da sa pristape preku indeks"
   ],
   "metadata": {
    "id": "EdmgxWx2rztK"
   }
  },
  {
   "cell_type": "code",
   "source": [
    "example_set={'banana','kiwi','apple'}\n",
    "example_set.add('orange')\n",
    "example_set"
   ],
   "metadata": {
    "colab": {
     "base_uri": "https://localhost:8080/"
    },
    "id": "2D9lPsLcrZrr",
    "executionInfo": {
     "status": "ok",
     "timestamp": 1729255908418,
     "user_tz": -120,
     "elapsed": 321,
     "user": {
      "displayName": "Dimitar Iliev",
      "userId": "04918616305414868801"
     }
    },
    "outputId": "7bf34d13-e15d-4b1c-eda3-cd0d7bfaa7ff"
   },
   "execution_count": 67,
   "outputs": [
    {
     "output_type": "execute_result",
     "data": {
      "text/plain": [
       "{'apple', 'banana', 'kiwi', 'orange'}"
      ]
     },
     "metadata": {},
     "execution_count": 67
    }
   ]
  },
  {
   "cell_type": "code",
   "source": [
    "person={\n",
    "    \"name\":\"Dimitar\",\n",
    "    \"last\":\"Iliev\",\n",
    "    \"embg\":1213141415\n",
    "}\n",
    "print(person)\n",
    "person['last']"
   ],
   "metadata": {
    "colab": {
     "base_uri": "https://localhost:8080/",
     "height": 52
    },
    "id": "hVBH-CMXr2ds",
    "executionInfo": {
     "status": "ok",
     "timestamp": 1729256017015,
     "user_tz": -120,
     "elapsed": 416,
     "user": {
      "displayName": "Dimitar Iliev",
      "userId": "04918616305414868801"
     }
    },
    "outputId": "07981d6b-ad63-403d-9b26-4edd86402599"
   },
   "execution_count": 69,
   "outputs": [
    {
     "output_type": "stream",
     "name": "stdout",
     "text": [
      "{'name': 'Dimitar', 'last': 'Iliev', 'embg': 1213141415}\n"
     ]
    },
    {
     "output_type": "execute_result",
     "data": {
      "text/plain": [
       "'Iliev'"
      ],
      "application/vnd.google.colaboratory.intrinsic+json": {
       "type": "string"
      }
     },
     "metadata": {},
     "execution_count": 69
    }
   ]
  },
  {
   "cell_type": "code",
   "source": [
    "for i in person.keys():\n",
    "  print(i,\"-->\",person[i])"
   ],
   "metadata": {
    "colab": {
     "base_uri": "https://localhost:8080/"
    },
    "id": "LdY3eBJHsSgo",
    "executionInfo": {
     "status": "ok",
     "timestamp": 1729256103606,
     "user_tz": -120,
     "elapsed": 339,
     "user": {
      "displayName": "Dimitar Iliev",
      "userId": "04918616305414868801"
     }
    },
    "outputId": "9ce01461-08d2-473e-d9d2-4536f472965f"
   },
   "execution_count": 70,
   "outputs": [
    {
     "output_type": "stream",
     "name": "stdout",
     "text": [
      "name --> Dimitar\n",
      "last --> Iliev\n",
      "embg --> 1213141415\n"
     ]
    }
   ]
  },
  {
   "cell_type": "code",
   "source": [
    "if \"name\" in person.keys():\n",
    "  print(\"this person has name\")"
   ],
   "metadata": {
    "colab": {
     "base_uri": "https://localhost:8080/"
    },
    "id": "heiEHWc-snoz",
    "executionInfo": {
     "status": "ok",
     "timestamp": 1729256198415,
     "user_tz": -120,
     "elapsed": 443,
     "user": {
      "displayName": "Dimitar Iliev",
      "userId": "04918616305414868801"
     }
    },
    "outputId": "e59e8254-7eb6-495d-ded7-56dee8051cc6"
   },
   "execution_count": 71,
   "outputs": [
    {
     "output_type": "stream",
     "name": "stdout",
     "text": [
      "this person has name\n"
     ]
    }
   ]
  },
  {
   "cell_type": "code",
   "source": [
    "person[\"teaches\"]=['math','web','object-oriented']\n",
    "person"
   ],
   "metadata": {
    "colab": {
     "base_uri": "https://localhost:8080/"
    },
    "id": "KLI2vpwCs9xW",
    "executionInfo": {
     "status": "ok",
     "timestamp": 1729256265823,
     "user_tz": -120,
     "elapsed": 505,
     "user": {
      "displayName": "Dimitar Iliev",
      "userId": "04918616305414868801"
     }
    },
    "outputId": "9336b87e-80dd-4b0b-95da-7dd7c35924ef"
   },
   "execution_count": 72,
   "outputs": [
    {
     "output_type": "execute_result",
     "data": {
      "text/plain": [
       "{'name': 'Dimitar',\n",
       " 'last': 'Iliev',\n",
       " 'embg': 1213141415,\n",
       " 'teaches': ['math', 'web', 'object-oriented']}"
      ]
     },
     "metadata": {},
     "execution_count": 72
    }
   ]
  },
  {
   "cell_type": "markdown",
   "source": [
    "NumPy is a Python library used for working with arrays.\n",
    "\n"
   ],
   "metadata": {
    "id": "hs0cohrftXUq"
   }
  },
  {
   "cell_type": "code",
   "source": [
    "import numpy as np\n",
    "import pandas as pd"
   ],
   "metadata": {
    "id": "OjnGlAOftKat",
    "executionInfo": {
     "status": "ok",
     "timestamp": 1729256567442,
     "user_tz": -120,
     "elapsed": 656,
     "user": {
      "displayName": "Dimitar Iliev",
      "userId": "04918616305414868801"
     }
    }
   },
   "execution_count": 80,
   "outputs": []
  },
  {
   "cell_type": "code",
   "source": [
    "array = np.array([1, 2, 5, 6])\n",
    "array"
   ],
   "metadata": {
    "colab": {
     "base_uri": "https://localhost:8080/"
    },
    "id": "tjLoEjTutcTO",
    "executionInfo": {
     "status": "ok",
     "timestamp": 1729256370923,
     "user_tz": -120,
     "elapsed": 341,
     "user": {
      "displayName": "Dimitar Iliev",
      "userId": "04918616305414868801"
     }
    },
    "outputId": "88ec8c54-b69c-4ddd-946c-325914b10bfe"
   },
   "execution_count": 75,
   "outputs": [
    {
     "output_type": "execute_result",
     "data": {
      "text/plain": [
       "array([1, 2, 5, 6])"
      ]
     },
     "metadata": {},
     "execution_count": 75
    }
   ]
  },
  {
   "cell_type": "code",
   "source": [
    "array.ndim"
   ],
   "metadata": {
    "colab": {
     "base_uri": "https://localhost:8080/"
    },
    "id": "I-wG9etztwpG",
    "executionInfo": {
     "status": "ok",
     "timestamp": 1729256440226,
     "user_tz": -120,
     "elapsed": 319,
     "user": {
      "displayName": "Dimitar Iliev",
      "userId": "04918616305414868801"
     }
    },
    "outputId": "43df02b4-14f8-48ca-c451-6af14c18f52c"
   },
   "execution_count": 76,
   "outputs": [
    {
     "output_type": "execute_result",
     "data": {
      "text/plain": [
       "1"
      ]
     },
     "metadata": {},
     "execution_count": 76
    }
   ]
  },
  {
   "cell_type": "code",
   "source": [
    "array.shape"
   ],
   "metadata": {
    "colab": {
     "base_uri": "https://localhost:8080/"
    },
    "id": "m2jA4-nKt0eA",
    "executionInfo": {
     "status": "ok",
     "timestamp": 1729256455458,
     "user_tz": -120,
     "elapsed": 330,
     "user": {
      "displayName": "Dimitar Iliev",
      "userId": "04918616305414868801"
     }
    },
    "outputId": "cfbc8570-244b-42fd-d91f-237e7d369862"
   },
   "execution_count": 77,
   "outputs": [
    {
     "output_type": "execute_result",
     "data": {
      "text/plain": [
       "(4,)"
      ]
     },
     "metadata": {},
     "execution_count": 77
    }
   ]
  },
  {
   "cell_type": "code",
   "source": [
    "np.sum(array)"
   ],
   "metadata": {
    "colab": {
     "base_uri": "https://localhost:8080/"
    },
    "id": "zDyS8mQLt4uV",
    "executionInfo": {
     "status": "ok",
     "timestamp": 1729256508534,
     "user_tz": -120,
     "elapsed": 329,
     "user": {
      "displayName": "Dimitar Iliev",
      "userId": "04918616305414868801"
     }
    },
    "outputId": "db2f12df-da72-46d1-f58f-ee27078dbf5e"
   },
   "execution_count": 78,
   "outputs": [
    {
     "output_type": "execute_result",
     "data": {
      "text/plain": [
       "14"
      ]
     },
     "metadata": {},
     "execution_count": 78
    }
   ]
  },
  {
   "cell_type": "code",
   "source": [
    "df=pd.DataFrame(person)\n",
    "df"
   ],
   "metadata": {
    "colab": {
     "base_uri": "https://localhost:8080/",
     "height": 143
    },
    "id": "M_RRMOHDuHQe",
    "executionInfo": {
     "status": "ok",
     "timestamp": 1729256615329,
     "user_tz": -120,
     "elapsed": 325,
     "user": {
      "displayName": "Dimitar Iliev",
      "userId": "04918616305414868801"
     }
    },
    "outputId": "3b9e0021-85ab-44e4-8547-b0fe8d0a9d7e"
   },
   "execution_count": 85,
   "outputs": [
    {
     "output_type": "execute_result",
     "data": {
      "text/plain": [
       "      name   last        embg          teaches\n",
       "0  Dimitar  Iliev  1213141415             math\n",
       "1  Dimitar  Iliev  1213141415              web\n",
       "2  Dimitar  Iliev  1213141415  object-oriented"
      ],
      "text/html": [
       "\n",
       "  <div id=\"df-2320734d-7c4c-40f8-a9e9-4dd61dec4da7\" class=\"colab-df-container\">\n",
       "    <div>\n",
       "<style scoped>\n",
       "    .dataframe tbody tr th:only-of-type {\n",
       "        vertical-align: middle;\n",
       "    }\n",
       "\n",
       "    .dataframe tbody tr th {\n",
       "        vertical-align: top;\n",
       "    }\n",
       "\n",
       "    .dataframe thead th {\n",
       "        text-align: right;\n",
       "    }\n",
       "</style>\n",
       "<table border=\"1\" class=\"dataframe\">\n",
       "  <thead>\n",
       "    <tr style=\"text-align: right;\">\n",
       "      <th></th>\n",
       "      <th>name</th>\n",
       "      <th>last</th>\n",
       "      <th>embg</th>\n",
       "      <th>teaches</th>\n",
       "    </tr>\n",
       "  </thead>\n",
       "  <tbody>\n",
       "    <tr>\n",
       "      <th>0</th>\n",
       "      <td>Dimitar</td>\n",
       "      <td>Iliev</td>\n",
       "      <td>1213141415</td>\n",
       "      <td>math</td>\n",
       "    </tr>\n",
       "    <tr>\n",
       "      <th>1</th>\n",
       "      <td>Dimitar</td>\n",
       "      <td>Iliev</td>\n",
       "      <td>1213141415</td>\n",
       "      <td>web</td>\n",
       "    </tr>\n",
       "    <tr>\n",
       "      <th>2</th>\n",
       "      <td>Dimitar</td>\n",
       "      <td>Iliev</td>\n",
       "      <td>1213141415</td>\n",
       "      <td>object-oriented</td>\n",
       "    </tr>\n",
       "  </tbody>\n",
       "</table>\n",
       "</div>\n",
       "    <div class=\"colab-df-buttons\">\n",
       "\n",
       "  <div class=\"colab-df-container\">\n",
       "    <button class=\"colab-df-convert\" onclick=\"convertToInteractive('df-2320734d-7c4c-40f8-a9e9-4dd61dec4da7')\"\n",
       "            title=\"Convert this dataframe to an interactive table.\"\n",
       "            style=\"display:none;\">\n",
       "\n",
       "  <svg xmlns=\"http://www.w3.org/2000/svg\" height=\"24px\" viewBox=\"0 -960 960 960\">\n",
       "    <path d=\"M120-120v-720h720v720H120Zm60-500h600v-160H180v160Zm220 220h160v-160H400v160Zm0 220h160v-160H400v160ZM180-400h160v-160H180v160Zm440 0h160v-160H620v160ZM180-180h160v-160H180v160Zm440 0h160v-160H620v160Z\"/>\n",
       "  </svg>\n",
       "    </button>\n",
       "\n",
       "  <style>\n",
       "    .colab-df-container {\n",
       "      display:flex;\n",
       "      gap: 12px;\n",
       "    }\n",
       "\n",
       "    .colab-df-convert {\n",
       "      background-color: #E8F0FE;\n",
       "      border: none;\n",
       "      border-radius: 50%;\n",
       "      cursor: pointer;\n",
       "      display: none;\n",
       "      fill: #1967D2;\n",
       "      height: 32px;\n",
       "      padding: 0 0 0 0;\n",
       "      width: 32px;\n",
       "    }\n",
       "\n",
       "    .colab-df-convert:hover {\n",
       "      background-color: #E2EBFA;\n",
       "      box-shadow: 0px 1px 2px rgba(60, 64, 67, 0.3), 0px 1px 3px 1px rgba(60, 64, 67, 0.15);\n",
       "      fill: #174EA6;\n",
       "    }\n",
       "\n",
       "    .colab-df-buttons div {\n",
       "      margin-bottom: 4px;\n",
       "    }\n",
       "\n",
       "    [theme=dark] .colab-df-convert {\n",
       "      background-color: #3B4455;\n",
       "      fill: #D2E3FC;\n",
       "    }\n",
       "\n",
       "    [theme=dark] .colab-df-convert:hover {\n",
       "      background-color: #434B5C;\n",
       "      box-shadow: 0px 1px 3px 1px rgba(0, 0, 0, 0.15);\n",
       "      filter: drop-shadow(0px 1px 2px rgba(0, 0, 0, 0.3));\n",
       "      fill: #FFFFFF;\n",
       "    }\n",
       "  </style>\n",
       "\n",
       "    <script>\n",
       "      const buttonEl =\n",
       "        document.querySelector('#df-2320734d-7c4c-40f8-a9e9-4dd61dec4da7 button.colab-df-convert');\n",
       "      buttonEl.style.display =\n",
       "        google.colab.kernel.accessAllowed ? 'block' : 'none';\n",
       "\n",
       "      async function convertToInteractive(key) {\n",
       "        const element = document.querySelector('#df-2320734d-7c4c-40f8-a9e9-4dd61dec4da7');\n",
       "        const dataTable =\n",
       "          await google.colab.kernel.invokeFunction('convertToInteractive',\n",
       "                                                    [key], {});\n",
       "        if (!dataTable) return;\n",
       "\n",
       "        const docLinkHtml = 'Like what you see? Visit the ' +\n",
       "          '<a target=\"_blank\" href=https://colab.research.google.com/notebooks/data_table.ipynb>data table notebook</a>'\n",
       "          + ' to learn more about interactive tables.';\n",
       "        element.innerHTML = '';\n",
       "        dataTable['output_type'] = 'display_data';\n",
       "        await google.colab.output.renderOutput(dataTable, element);\n",
       "        const docLink = document.createElement('div');\n",
       "        docLink.innerHTML = docLinkHtml;\n",
       "        element.appendChild(docLink);\n",
       "      }\n",
       "    </script>\n",
       "  </div>\n",
       "\n",
       "\n",
       "<div id=\"df-aa410870-f783-4667-a404-14668ede66d6\">\n",
       "  <button class=\"colab-df-quickchart\" onclick=\"quickchart('df-aa410870-f783-4667-a404-14668ede66d6')\"\n",
       "            title=\"Suggest charts\"\n",
       "            style=\"display:none;\">\n",
       "\n",
       "<svg xmlns=\"http://www.w3.org/2000/svg\" height=\"24px\"viewBox=\"0 0 24 24\"\n",
       "     width=\"24px\">\n",
       "    <g>\n",
       "        <path d=\"M19 3H5c-1.1 0-2 .9-2 2v14c0 1.1.9 2 2 2h14c1.1 0 2-.9 2-2V5c0-1.1-.9-2-2-2zM9 17H7v-7h2v7zm4 0h-2V7h2v10zm4 0h-2v-4h2v4z\"/>\n",
       "    </g>\n",
       "</svg>\n",
       "  </button>\n",
       "\n",
       "<style>\n",
       "  .colab-df-quickchart {\n",
       "      --bg-color: #E8F0FE;\n",
       "      --fill-color: #1967D2;\n",
       "      --hover-bg-color: #E2EBFA;\n",
       "      --hover-fill-color: #174EA6;\n",
       "      --disabled-fill-color: #AAA;\n",
       "      --disabled-bg-color: #DDD;\n",
       "  }\n",
       "\n",
       "  [theme=dark] .colab-df-quickchart {\n",
       "      --bg-color: #3B4455;\n",
       "      --fill-color: #D2E3FC;\n",
       "      --hover-bg-color: #434B5C;\n",
       "      --hover-fill-color: #FFFFFF;\n",
       "      --disabled-bg-color: #3B4455;\n",
       "      --disabled-fill-color: #666;\n",
       "  }\n",
       "\n",
       "  .colab-df-quickchart {\n",
       "    background-color: var(--bg-color);\n",
       "    border: none;\n",
       "    border-radius: 50%;\n",
       "    cursor: pointer;\n",
       "    display: none;\n",
       "    fill: var(--fill-color);\n",
       "    height: 32px;\n",
       "    padding: 0;\n",
       "    width: 32px;\n",
       "  }\n",
       "\n",
       "  .colab-df-quickchart:hover {\n",
       "    background-color: var(--hover-bg-color);\n",
       "    box-shadow: 0 1px 2px rgba(60, 64, 67, 0.3), 0 1px 3px 1px rgba(60, 64, 67, 0.15);\n",
       "    fill: var(--button-hover-fill-color);\n",
       "  }\n",
       "\n",
       "  .colab-df-quickchart-complete:disabled,\n",
       "  .colab-df-quickchart-complete:disabled:hover {\n",
       "    background-color: var(--disabled-bg-color);\n",
       "    fill: var(--disabled-fill-color);\n",
       "    box-shadow: none;\n",
       "  }\n",
       "\n",
       "  .colab-df-spinner {\n",
       "    border: 2px solid var(--fill-color);\n",
       "    border-color: transparent;\n",
       "    border-bottom-color: var(--fill-color);\n",
       "    animation:\n",
       "      spin 1s steps(1) infinite;\n",
       "  }\n",
       "\n",
       "  @keyframes spin {\n",
       "    0% {\n",
       "      border-color: transparent;\n",
       "      border-bottom-color: var(--fill-color);\n",
       "      border-left-color: var(--fill-color);\n",
       "    }\n",
       "    20% {\n",
       "      border-color: transparent;\n",
       "      border-left-color: var(--fill-color);\n",
       "      border-top-color: var(--fill-color);\n",
       "    }\n",
       "    30% {\n",
       "      border-color: transparent;\n",
       "      border-left-color: var(--fill-color);\n",
       "      border-top-color: var(--fill-color);\n",
       "      border-right-color: var(--fill-color);\n",
       "    }\n",
       "    40% {\n",
       "      border-color: transparent;\n",
       "      border-right-color: var(--fill-color);\n",
       "      border-top-color: var(--fill-color);\n",
       "    }\n",
       "    60% {\n",
       "      border-color: transparent;\n",
       "      border-right-color: var(--fill-color);\n",
       "    }\n",
       "    80% {\n",
       "      border-color: transparent;\n",
       "      border-right-color: var(--fill-color);\n",
       "      border-bottom-color: var(--fill-color);\n",
       "    }\n",
       "    90% {\n",
       "      border-color: transparent;\n",
       "      border-bottom-color: var(--fill-color);\n",
       "    }\n",
       "  }\n",
       "</style>\n",
       "\n",
       "  <script>\n",
       "    async function quickchart(key) {\n",
       "      const quickchartButtonEl =\n",
       "        document.querySelector('#' + key + ' button');\n",
       "      quickchartButtonEl.disabled = true;  // To prevent multiple clicks.\n",
       "      quickchartButtonEl.classList.add('colab-df-spinner');\n",
       "      try {\n",
       "        const charts = await google.colab.kernel.invokeFunction(\n",
       "            'suggestCharts', [key], {});\n",
       "      } catch (error) {\n",
       "        console.error('Error during call to suggestCharts:', error);\n",
       "      }\n",
       "      quickchartButtonEl.classList.remove('colab-df-spinner');\n",
       "      quickchartButtonEl.classList.add('colab-df-quickchart-complete');\n",
       "    }\n",
       "    (() => {\n",
       "      let quickchartButtonEl =\n",
       "        document.querySelector('#df-aa410870-f783-4667-a404-14668ede66d6 button');\n",
       "      quickchartButtonEl.style.display =\n",
       "        google.colab.kernel.accessAllowed ? 'block' : 'none';\n",
       "    })();\n",
       "  </script>\n",
       "</div>\n",
       "    </div>\n",
       "  </div>\n"
      ],
      "application/vnd.google.colaboratory.intrinsic+json": {
       "type": "dataframe",
       "variable_name": "df",
       "summary": "{\n  \"name\": \"df\",\n  \"rows\": 3,\n  \"fields\": [\n    {\n      \"column\": \"name\",\n      \"properties\": {\n        \"dtype\": \"category\",\n        \"num_unique_values\": 1,\n        \"samples\": [\n          \"Dimitar\"\n        ],\n        \"semantic_type\": \"\",\n        \"description\": \"\"\n      }\n    },\n    {\n      \"column\": \"last\",\n      \"properties\": {\n        \"dtype\": \"category\",\n        \"num_unique_values\": 1,\n        \"samples\": [\n          \"Iliev\"\n        ],\n        \"semantic_type\": \"\",\n        \"description\": \"\"\n      }\n    },\n    {\n      \"column\": \"embg\",\n      \"properties\": {\n        \"dtype\": \"number\",\n        \"std\": 0,\n        \"min\": 1213141415,\n        \"max\": 1213141415,\n        \"num_unique_values\": 1,\n        \"samples\": [\n          1213141415\n        ],\n        \"semantic_type\": \"\",\n        \"description\": \"\"\n      }\n    },\n    {\n      \"column\": \"teaches\",\n      \"properties\": {\n        \"dtype\": \"string\",\n        \"num_unique_values\": 3,\n        \"samples\": [\n          \"math\"\n        ],\n        \"semantic_type\": \"\",\n        \"description\": \"\"\n      }\n    }\n  ]\n}"
      }
     },
     "metadata": {},
     "execution_count": 85
    }
   ]
  },
  {
   "cell_type": "code",
   "source": [
    "data = {\n",
    "    \"index\": [1235, 43534, 43253, 54353],\n",
    "    \"name\": [\"Mila\", \"Jovana\", \"Ana\", \"Dimitar\"],\n",
    "    \"grade\": [5, 6, 7, 8]\n",
    "}\n",
    "df=pd.DataFrame(data)\n",
    "df"
   ],
   "metadata": {
    "colab": {
     "base_uri": "https://localhost:8080/",
     "height": 174
    },
    "id": "zhvCtG9xulfL",
    "executionInfo": {
     "status": "ok",
     "timestamp": 1729256653177,
     "user_tz": -120,
     "elapsed": 522,
     "user": {
      "displayName": "Dimitar Iliev",
      "userId": "04918616305414868801"
     }
    },
    "outputId": "cc6c5040-5168-44e6-ba5c-39d2e40e140f",
    "ExecuteTime": {
     "end_time": "2024-10-20T15:21:46.920884Z",
     "start_time": "2024-10-20T15:21:45.945855Z"
    }
   },
   "outputs": [
    {
     "ename": "NameError",
     "evalue": "name 'pd' is not defined",
     "output_type": "error",
     "traceback": [
      "\u001B[1;31m---------------------------------------------------------------------------\u001B[0m",
      "\u001B[1;31mNameError\u001B[0m                                 Traceback (most recent call last)",
      "Cell \u001B[1;32mIn[3], line 6\u001B[0m\n\u001B[0;32m      1\u001B[0m data \u001B[38;5;241m=\u001B[39m {\n\u001B[0;32m      2\u001B[0m     \u001B[38;5;124m\"\u001B[39m\u001B[38;5;124mindex\u001B[39m\u001B[38;5;124m\"\u001B[39m: [\u001B[38;5;241m1235\u001B[39m, \u001B[38;5;241m43534\u001B[39m, \u001B[38;5;241m43253\u001B[39m, \u001B[38;5;241m54353\u001B[39m],\n\u001B[0;32m      3\u001B[0m     \u001B[38;5;124m\"\u001B[39m\u001B[38;5;124mname\u001B[39m\u001B[38;5;124m\"\u001B[39m: [\u001B[38;5;124m\"\u001B[39m\u001B[38;5;124mMila\u001B[39m\u001B[38;5;124m\"\u001B[39m, \u001B[38;5;124m\"\u001B[39m\u001B[38;5;124mJovana\u001B[39m\u001B[38;5;124m\"\u001B[39m, \u001B[38;5;124m\"\u001B[39m\u001B[38;5;124mAna\u001B[39m\u001B[38;5;124m\"\u001B[39m, \u001B[38;5;124m\"\u001B[39m\u001B[38;5;124mDimitar\u001B[39m\u001B[38;5;124m\"\u001B[39m],\n\u001B[0;32m      4\u001B[0m     \u001B[38;5;124m\"\u001B[39m\u001B[38;5;124mgrade\u001B[39m\u001B[38;5;124m\"\u001B[39m: [\u001B[38;5;241m5\u001B[39m, \u001B[38;5;241m6\u001B[39m, \u001B[38;5;241m7\u001B[39m, \u001B[38;5;241m8\u001B[39m]\n\u001B[0;32m      5\u001B[0m }\n\u001B[1;32m----> 6\u001B[0m df\u001B[38;5;241m=\u001B[39mpd\u001B[38;5;241m.\u001B[39mDataFrame(data)\n\u001B[0;32m      7\u001B[0m df\n",
      "\u001B[1;31mNameError\u001B[0m: name 'pd' is not defined"
     ]
    }
   ],
   "execution_count": 3
  },
  {
   "metadata": {},
   "cell_type": "code",
   "outputs": [],
   "execution_count": null,
   "source": ""
  },
  {
   "cell_type": "code",
   "source": [
    "df.to_csv('grades.csv')"
   ],
   "metadata": {
    "id": "55bhPvq9uqw5",
    "executionInfo": {
     "status": "ok",
     "timestamp": 1729256672294,
     "user_tz": -120,
     "elapsed": 568,
     "user": {
      "displayName": "Dimitar Iliev",
      "userId": "04918616305414868801"
     }
    }
   },
   "execution_count": 87,
   "outputs": []
  },
  {
   "metadata": {},
   "cell_type": "code",
   "outputs": [],
   "execution_count": null,
   "source": ""
  },
  {
   "metadata": {},
   "cell_type": "code",
   "outputs": [],
   "execution_count": null,
   "source": ""
  }
 ]
}
