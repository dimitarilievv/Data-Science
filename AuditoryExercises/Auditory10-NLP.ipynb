{
 "cells": [
  {
   "cell_type": "markdown",
   "id": "405a76ca-fd66-4011-89e4-0b85e74a30a2",
   "metadata": {},
   "source": [
    "# Аудиториска вежба 10: NLP\n"
   ]
  },
  {
   "cell_type": "markdown",
   "id": "15c9f1b9-1d0c-4012-bd0a-d0bc4753111d",
   "metadata": {},
   "source": [
    "### Text Vectorization\n"
   ]
  },
  {
   "cell_type": "markdown",
   "id": "e463f7a5-68bb-4eae-afcf-0e06eb87f7ce",
   "metadata": {},
   "source": [
    "Text Vectorization is the process of converting text into a numerical representation.\n",
    "\n",
    "We can accomplish this using different methods.\n",
    "\n",
    "Binary Term Frequency - captures presence (1) or absence (0) of a term in a documnent.\n",
    "\n",
    "Bag of Words (BoW) Term Frequency - captures frequency of term in a document.\n",
    "\n",
    "Normalized Term Frequency L1 - captures normalized BoW Term Frequency in a document.\n",
    "\n",
    "Normalized TF-IDF (Term Frequency-Inverse Document Frequency) L2 - captures normalized \n",
    "TD-IDF in a document. The following image shows the formula to compute TF-IDF:\n"
   ]
  },
  {
   "cell_type": "markdown",
   "id": "80776623-b5d1-49da-84b0-0402b5833f30",
   "metadata": {},
   "source": [
    "## Binary Term Frequency"
   ]
  },
  {
   "cell_type": "code",
   "execution_count": 10,
   "id": "f3fba103-6280-49e1-9c8d-b0bacafff872",
   "metadata": {},
   "outputs": [],
   "source": [
    "import pandas as pd"
   ]
  },
  {
   "cell_type": "code",
   "execution_count": 12,
   "id": "86d70ebc-2acb-40fb-a24b-0685b933ff92",
   "metadata": {},
   "outputs": [],
   "source": [
    "corpus = [\"This is a brown house. This house is big. The street number is 1.\",\n",
    "          \"This is a small house. This house has 1 bedroom. The street number is 12.\",\n",
    "          \"This dog is brown. This dog likes to play.\",\n",
    "          \"The dog is in the bedroom.\"]"
   ]
  },
  {
   "cell_type": "code",
   "execution_count": 14,
   "id": "b1c3175d-952a-44af-9eb2-9c0060db8b4f",
   "metadata": {},
   "outputs": [],
   "source": [
    "from sklearn.feature_extraction.text import TfidfVectorizer\n",
    "\n",
    "tv = TfidfVectorizer(binary=True,\n",
    "                     norm=None,\n",
    "                     use_idf=False,\n",
    "                     smooth_idf=False,\n",
    "                     lowercase=True,\n",
    "                     stop_words='english',\n",
    "                     token_pattern=r'(?u)\\b[A-Za-z]+\\b',\n",
    "                     min_df=1,\n",
    "                     max_df=1.0,\n",
    "                     max_features=None,\n",
    "                     ngram_range=(1, 1))"
   ]
  },
  {
   "cell_type": "markdown",
   "id": "12bec280-79db-45be-a845-8e1a2f3956f2",
   "metadata": {},
   "source": [
    "#### binary=True:\n",
    "\n",
    "Кога е True, вредностите на матрицата ќе бидат 0 или 1. Значи, ако зборот се појавува во документот, вредноста ќе биде 1, а ако не, вредноста ќе биде 0.\n",
    "Кога е False, TfidfVectorizer ќе пресмета вистински TF-IDF вредности за секој збор во документот.\n",
    "\n",
    "#### norm=None:\n",
    "\n",
    "Овој параметар дефинира каков тип на нормализација да се применува на резултатите.\n",
    "Ако е None, нема да има нормализација на резултатите.\n",
    "\n",
    "#### use_idf=False:\n",
    "\n",
    "Овој параметар е поставен на False, што значи дека IDF (Inverse Document Frequency) нема да се користи при пресметката на TF-IDF вредностите.\n",
    "Ако беше True, ќе се користеше IDF за прилагодување на важноста на зборовите во однос на нивната појавност во целокупниот корпус.\n",
    "\n",
    "#### smooth_idf=False:\n",
    "\n",
    "Овој параметар дефинира дали да се применува смоотинг на IDF пресметката. Кога е True, ќе се додаде мала вредност за да се избегнат математички проблеми со нула во IDF.\n",
    "Во овој случај е False, бидејќи се користи use_idf=False.\n",
    "\n",
    "#### lowercase=True:\n",
    "\n",
    "Овој параметар ги прави сите зборови малини букви пред да се анализираат, што помага да се избегне двојно броење на исти зборови во различни форми (на пример, \"House\" и \"house\").\n",
    "\n",
    "#### stop_words='english':\n",
    "\n",
    "Овој параметар ја елиминира употребата на чести стоп-зборови на англиски јазик (како \"the\", \"is\", \"and\"), бидејќи овие зборови не носат значајни информации за анализата.\n",
    "\n",
    "#### token_pattern=r'(?u)\\b[A-Za-z]+\\b':\n",
    "\n",
    "Овој параметар дефинира регуларен израз што го одредува моделот на зборови што треба да се вклучат.\n",
    "Овој израз значи дека ќе се користат само букви (од А до Z или а до z), што значи дека бројките и симболите ќе се игнорираат.\n",
    "\n",
    "#### min_df=1:\n",
    "\n",
    "Овој параметар означува дека зборовите ќе се вклучуваат во моделот ако се појавуваат во најмалку 1 документ. Тоа значи дека нема да се игнорираат зборови кои се појавуваат само во еден документ.\n",
    "\n",
    "#### max_df=1.0:\n",
    "\n",
    "Овој параметар означува дека зборовите ќе се вклучуваат во моделот ако не се појавуваат во повеќе од 100% од документите. Вредноста 1.0 значи дека нема ограничување во броjот на документи во кои зборовите може да се појавуваат.\n",
    "\n",
    "#### max_features=None:\n",
    "\n",
    "Овој параметар дефинира максимален број на карактеристики (features) што треба да бидат вклучени во резултатот. None значи дека нема да има ограничување и сите зборови ќе бидат вклучени.\n",
    "\n",
    "#### ngram_range=(1, 1):\n",
    "\n",
    "Овој параметар дефинира дека ќе се користат само едноставни зборови (1-grams). Тоа значи дека се земаат само поединечни зборови, а не и комбинации на зборови (например, биграми или триграми)."
   ]
  },
  {
   "cell_type": "code",
   "execution_count": 19,
   "id": "16555dd3-dd5c-42f3-ab0f-3678ee2950ce",
   "metadata": {},
   "outputs": [],
   "source": [
    "data = pd.DataFrame(tv.fit_transform(corpus).toarray(), \n",
    "                    columns=tv.get_feature_names_out())"
   ]
  },
  {
   "cell_type": "code",
   "execution_count": 21,
   "id": "673aff0f-d23c-4375-920a-f4f84d60bb96",
   "metadata": {},
   "outputs": [
    {
     "data": {
      "text/html": [
       "<div>\n",
       "<style scoped>\n",
       "    .dataframe tbody tr th:only-of-type {\n",
       "        vertical-align: middle;\n",
       "    }\n",
       "\n",
       "    .dataframe tbody tr th {\n",
       "        vertical-align: top;\n",
       "    }\n",
       "\n",
       "    .dataframe thead th {\n",
       "        text-align: right;\n",
       "    }\n",
       "</style>\n",
       "<table border=\"1\" class=\"dataframe\">\n",
       "  <thead>\n",
       "    <tr style=\"text-align: right;\">\n",
       "      <th></th>\n",
       "      <th>bedroom</th>\n",
       "      <th>big</th>\n",
       "      <th>brown</th>\n",
       "      <th>dog</th>\n",
       "      <th>house</th>\n",
       "      <th>likes</th>\n",
       "      <th>number</th>\n",
       "      <th>play</th>\n",
       "      <th>small</th>\n",
       "      <th>street</th>\n",
       "    </tr>\n",
       "  </thead>\n",
       "  <tbody>\n",
       "    <tr>\n",
       "      <th>0</th>\n",
       "      <td>0.0</td>\n",
       "      <td>1.0</td>\n",
       "      <td>1.0</td>\n",
       "      <td>0.0</td>\n",
       "      <td>1.0</td>\n",
       "      <td>0.0</td>\n",
       "      <td>1.0</td>\n",
       "      <td>0.0</td>\n",
       "      <td>0.0</td>\n",
       "      <td>1.0</td>\n",
       "    </tr>\n",
       "    <tr>\n",
       "      <th>1</th>\n",
       "      <td>1.0</td>\n",
       "      <td>0.0</td>\n",
       "      <td>0.0</td>\n",
       "      <td>0.0</td>\n",
       "      <td>1.0</td>\n",
       "      <td>0.0</td>\n",
       "      <td>1.0</td>\n",
       "      <td>0.0</td>\n",
       "      <td>1.0</td>\n",
       "      <td>1.0</td>\n",
       "    </tr>\n",
       "    <tr>\n",
       "      <th>2</th>\n",
       "      <td>0.0</td>\n",
       "      <td>0.0</td>\n",
       "      <td>1.0</td>\n",
       "      <td>1.0</td>\n",
       "      <td>0.0</td>\n",
       "      <td>1.0</td>\n",
       "      <td>0.0</td>\n",
       "      <td>1.0</td>\n",
       "      <td>0.0</td>\n",
       "      <td>0.0</td>\n",
       "    </tr>\n",
       "    <tr>\n",
       "      <th>3</th>\n",
       "      <td>1.0</td>\n",
       "      <td>0.0</td>\n",
       "      <td>0.0</td>\n",
       "      <td>1.0</td>\n",
       "      <td>0.0</td>\n",
       "      <td>0.0</td>\n",
       "      <td>0.0</td>\n",
       "      <td>0.0</td>\n",
       "      <td>0.0</td>\n",
       "      <td>0.0</td>\n",
       "    </tr>\n",
       "  </tbody>\n",
       "</table>\n",
       "</div>"
      ],
      "text/plain": [
       "   bedroom  big  brown  dog  house  likes  number  play  small  street\n",
       "0      0.0  1.0    1.0  0.0    1.0    0.0     1.0   0.0    0.0     1.0\n",
       "1      1.0  0.0    0.0  0.0    1.0    0.0     1.0   0.0    1.0     1.0\n",
       "2      0.0  0.0    1.0  1.0    0.0    1.0     0.0   1.0    0.0     0.0\n",
       "3      1.0  0.0    0.0  1.0    0.0    0.0     0.0   0.0    0.0     0.0"
      ]
     },
     "execution_count": 21,
     "metadata": {},
     "output_type": "execute_result"
    }
   ],
   "source": [
    "data"
   ]
  },
  {
   "cell_type": "markdown",
   "id": "105dc2be-92a5-4fa7-9087-447f99d85eee",
   "metadata": {},
   "source": [
    "## Bag of Words Term Frequency"
   ]
  },
  {
   "cell_type": "code",
   "execution_count": 26,
   "id": "6526290b-5921-4ff8-8397-f63ede7347f5",
   "metadata": {},
   "outputs": [],
   "source": [
    "tv = TfidfVectorizer(binary=False,\n",
    "                     norm=None,\n",
    "                     use_idf=False,\n",
    "                     smooth_idf=False,\n",
    "                     lowercase=True,\n",
    "                     stop_words='english',\n",
    "                     token_pattern=r'(?u)\\b[A-Za-z]+\\b',\n",
    "                     min_df=1,\n",
    "                     max_df=1.0,\n",
    "                     max_features=None,\n",
    "                     ngram_range=(1, 1))"
   ]
  },
  {
   "cell_type": "markdown",
   "id": "fc92a7de-4926-456a-b9a7-ea802557cfbe",
   "metadata": {},
   "source": [
    "binary=False (во овој пример) – користи TF-IDF вредности:\n",
    "\n",
    "Ако имате збор што се појавува многу често во еден документ, и ако binary=False, тој збор ќе добие поголема TF-IDF вредност ако се појавува во документот, а истовремено ќе биде помалку важен ако се појавува во многу други документи."
   ]
  },
  {
   "cell_type": "code",
   "execution_count": 28,
   "id": "c4ab31e5-9eff-4037-b401-4ba36b8a6b6d",
   "metadata": {},
   "outputs": [],
   "source": [
    "data = pd.DataFrame(tv.fit_transform(corpus).toarray(), columns=tv.get_feature_names_out())"
   ]
  },
  {
   "cell_type": "code",
   "execution_count": 30,
   "id": "182c9090-e2ab-40fa-a6b3-b9a958b4bdb9",
   "metadata": {},
   "outputs": [
    {
     "data": {
      "text/html": [
       "<div>\n",
       "<style scoped>\n",
       "    .dataframe tbody tr th:only-of-type {\n",
       "        vertical-align: middle;\n",
       "    }\n",
       "\n",
       "    .dataframe tbody tr th {\n",
       "        vertical-align: top;\n",
       "    }\n",
       "\n",
       "    .dataframe thead th {\n",
       "        text-align: right;\n",
       "    }\n",
       "</style>\n",
       "<table border=\"1\" class=\"dataframe\">\n",
       "  <thead>\n",
       "    <tr style=\"text-align: right;\">\n",
       "      <th></th>\n",
       "      <th>bedroom</th>\n",
       "      <th>big</th>\n",
       "      <th>brown</th>\n",
       "      <th>dog</th>\n",
       "      <th>house</th>\n",
       "      <th>likes</th>\n",
       "      <th>number</th>\n",
       "      <th>play</th>\n",
       "      <th>small</th>\n",
       "      <th>street</th>\n",
       "    </tr>\n",
       "  </thead>\n",
       "  <tbody>\n",
       "    <tr>\n",
       "      <th>0</th>\n",
       "      <td>0.0</td>\n",
       "      <td>1.0</td>\n",
       "      <td>1.0</td>\n",
       "      <td>0.0</td>\n",
       "      <td>2.0</td>\n",
       "      <td>0.0</td>\n",
       "      <td>1.0</td>\n",
       "      <td>0.0</td>\n",
       "      <td>0.0</td>\n",
       "      <td>1.0</td>\n",
       "    </tr>\n",
       "    <tr>\n",
       "      <th>1</th>\n",
       "      <td>1.0</td>\n",
       "      <td>0.0</td>\n",
       "      <td>0.0</td>\n",
       "      <td>0.0</td>\n",
       "      <td>2.0</td>\n",
       "      <td>0.0</td>\n",
       "      <td>1.0</td>\n",
       "      <td>0.0</td>\n",
       "      <td>1.0</td>\n",
       "      <td>1.0</td>\n",
       "    </tr>\n",
       "    <tr>\n",
       "      <th>2</th>\n",
       "      <td>0.0</td>\n",
       "      <td>0.0</td>\n",
       "      <td>1.0</td>\n",
       "      <td>2.0</td>\n",
       "      <td>0.0</td>\n",
       "      <td>1.0</td>\n",
       "      <td>0.0</td>\n",
       "      <td>1.0</td>\n",
       "      <td>0.0</td>\n",
       "      <td>0.0</td>\n",
       "    </tr>\n",
       "    <tr>\n",
       "      <th>3</th>\n",
       "      <td>1.0</td>\n",
       "      <td>0.0</td>\n",
       "      <td>0.0</td>\n",
       "      <td>1.0</td>\n",
       "      <td>0.0</td>\n",
       "      <td>0.0</td>\n",
       "      <td>0.0</td>\n",
       "      <td>0.0</td>\n",
       "      <td>0.0</td>\n",
       "      <td>0.0</td>\n",
       "    </tr>\n",
       "  </tbody>\n",
       "</table>\n",
       "</div>"
      ],
      "text/plain": [
       "   bedroom  big  brown  dog  house  likes  number  play  small  street\n",
       "0      0.0  1.0    1.0  0.0    2.0    0.0     1.0   0.0    0.0     1.0\n",
       "1      1.0  0.0    0.0  0.0    2.0    0.0     1.0   0.0    1.0     1.0\n",
       "2      0.0  0.0    1.0  2.0    0.0    1.0     0.0   1.0    0.0     0.0\n",
       "3      1.0  0.0    0.0  1.0    0.0    0.0     0.0   0.0    0.0     0.0"
      ]
     },
     "execution_count": 30,
     "metadata": {},
     "output_type": "execute_result"
    }
   ],
   "source": [
    "data"
   ]
  },
  {
   "cell_type": "markdown",
   "id": "c49db124-da9e-47d2-89a0-762e244d9858",
   "metadata": {},
   "source": [
    "## Normalized Term Frequency"
   ]
  },
  {
   "cell_type": "code",
   "execution_count": 37,
   "id": "f3d5ec7a-2382-492d-b6ac-0097d1377686",
   "metadata": {},
   "outputs": [],
   "source": [
    "tv = TfidfVectorizer(binary=False,\n",
    "                     norm='l1',\n",
    "                     use_idf=False,\n",
    "                     smooth_idf=False,\n",
    "                     lowercase=True,\n",
    "                     stop_words='english',\n",
    "                     token_pattern=r'(?u)\\b[A-Za-z]+\\b',\n",
    "                     min_df=1,\n",
    "                     max_df=1.0,\n",
    "                     max_features=None,\n",
    "                     ngram_range=(1, 1))"
   ]
  },
  {
   "cell_type": "markdown",
   "id": "abad321b-cfb2-4b34-8c54-51c718016deb",
   "metadata": {},
   "source": [
    "l1 нормализација значи дека сумата на сите елементи во секој ред ќе биде 1, при што секој елемент ќе биде поделено со вкупната сума на елементите во тој ред.\n",
    "Ова е корисно кога сакате да имате еднаква тежина за сите документи и не сакате да ги преоптоварувате со големи вредности на TF-ID"
   ]
  },
  {
   "cell_type": "code",
   "execution_count": 39,
   "id": "f90674b7-76df-4117-ab52-8f2b25ceec67",
   "metadata": {},
   "outputs": [],
   "source": [
    "data = pd.DataFrame(tv.fit_transform(corpus).toarray(),\n",
    "                    columns=tv.get_feature_names_out())\n"
   ]
  },
  {
   "cell_type": "code",
   "execution_count": 42,
   "id": "3771f22c-2961-4c25-b65e-0d02ff78fc13",
   "metadata": {},
   "outputs": [
    {
     "data": {
      "text/html": [
       "<div>\n",
       "<style scoped>\n",
       "    .dataframe tbody tr th:only-of-type {\n",
       "        vertical-align: middle;\n",
       "    }\n",
       "\n",
       "    .dataframe tbody tr th {\n",
       "        vertical-align: top;\n",
       "    }\n",
       "\n",
       "    .dataframe thead th {\n",
       "        text-align: right;\n",
       "    }\n",
       "</style>\n",
       "<table border=\"1\" class=\"dataframe\">\n",
       "  <thead>\n",
       "    <tr style=\"text-align: right;\">\n",
       "      <th></th>\n",
       "      <th>bedroom</th>\n",
       "      <th>big</th>\n",
       "      <th>brown</th>\n",
       "      <th>dog</th>\n",
       "      <th>house</th>\n",
       "      <th>likes</th>\n",
       "      <th>number</th>\n",
       "      <th>play</th>\n",
       "      <th>small</th>\n",
       "      <th>street</th>\n",
       "    </tr>\n",
       "  </thead>\n",
       "  <tbody>\n",
       "    <tr>\n",
       "      <th>0</th>\n",
       "      <td>0.000000</td>\n",
       "      <td>0.166667</td>\n",
       "      <td>0.166667</td>\n",
       "      <td>0.0</td>\n",
       "      <td>0.333333</td>\n",
       "      <td>0.0</td>\n",
       "      <td>0.166667</td>\n",
       "      <td>0.0</td>\n",
       "      <td>0.000000</td>\n",
       "      <td>0.166667</td>\n",
       "    </tr>\n",
       "    <tr>\n",
       "      <th>1</th>\n",
       "      <td>0.166667</td>\n",
       "      <td>0.000000</td>\n",
       "      <td>0.000000</td>\n",
       "      <td>0.0</td>\n",
       "      <td>0.333333</td>\n",
       "      <td>0.0</td>\n",
       "      <td>0.166667</td>\n",
       "      <td>0.0</td>\n",
       "      <td>0.166667</td>\n",
       "      <td>0.166667</td>\n",
       "    </tr>\n",
       "    <tr>\n",
       "      <th>2</th>\n",
       "      <td>0.000000</td>\n",
       "      <td>0.000000</td>\n",
       "      <td>0.200000</td>\n",
       "      <td>0.4</td>\n",
       "      <td>0.000000</td>\n",
       "      <td>0.2</td>\n",
       "      <td>0.000000</td>\n",
       "      <td>0.2</td>\n",
       "      <td>0.000000</td>\n",
       "      <td>0.000000</td>\n",
       "    </tr>\n",
       "    <tr>\n",
       "      <th>3</th>\n",
       "      <td>0.500000</td>\n",
       "      <td>0.000000</td>\n",
       "      <td>0.000000</td>\n",
       "      <td>0.5</td>\n",
       "      <td>0.000000</td>\n",
       "      <td>0.0</td>\n",
       "      <td>0.000000</td>\n",
       "      <td>0.0</td>\n",
       "      <td>0.000000</td>\n",
       "      <td>0.000000</td>\n",
       "    </tr>\n",
       "  </tbody>\n",
       "</table>\n",
       "</div>"
      ],
      "text/plain": [
       "    bedroom       big     brown  dog     house  likes    number  play  \\\n",
       "0  0.000000  0.166667  0.166667  0.0  0.333333    0.0  0.166667   0.0   \n",
       "1  0.166667  0.000000  0.000000  0.0  0.333333    0.0  0.166667   0.0   \n",
       "2  0.000000  0.000000  0.200000  0.4  0.000000    0.2  0.000000   0.2   \n",
       "3  0.500000  0.000000  0.000000  0.5  0.000000    0.0  0.000000   0.0   \n",
       "\n",
       "      small    street  \n",
       "0  0.000000  0.166667  \n",
       "1  0.166667  0.166667  \n",
       "2  0.000000  0.000000  \n",
       "3  0.000000  0.000000  "
      ]
     },
     "execution_count": 42,
     "metadata": {},
     "output_type": "execute_result"
    }
   ],
   "source": [
    "data\n"
   ]
  },
  {
   "cell_type": "markdown",
   "id": "81b47625-5abf-4659-be5c-610404affafe",
   "metadata": {},
   "source": [
    "## Normalized TF-IDF"
   ]
  },
  {
   "cell_type": "code",
   "execution_count": 49,
   "id": "96fbe79f-f67d-4960-9a02-dea6cb38bc9c",
   "metadata": {},
   "outputs": [],
   "source": [
    "tv = TfidfVectorizer(binary=False,\n",
    "                     norm='l2',\n",
    "                     use_idf=False,\n",
    "                     smooth_idf=False,\n",
    "                     lowercase=True,\n",
    "                     stop_words='english',\n",
    "                     token_pattern=r'(?u)\\b[A-Za-z]+\\b',\n",
    "                     min_df=1,\n",
    "                     max_df=1.0,\n",
    "                     max_features=None,\n",
    "                     ngram_range=(1, 1))"
   ]
  },
  {
   "cell_type": "markdown",
   "id": "bf29dbba-6e2b-4b17-ac2c-3691d7d5035d",
   "metadata": {},
   "source": [
    "L2 нормализацијата (која е поставена во овој пример) ќе ги нормализира вредностите на секој документ така што сумата на квадратите на вредностите на зборовите во документот ќе биде еднаква на 1.\n",
    "\n",
    "Ова е корисно ако сакате да се осигурите дека зборовите во документите ќе бидат пропорционално распоредени и дека сумата на нивните вредности нема да предизвика преоптоварување на било кој збор"
   ]
  },
  {
   "cell_type": "code",
   "execution_count": 51,
   "id": "db5db26f-4e67-49e3-aa3b-e0c92b92b93f",
   "metadata": {},
   "outputs": [],
   "source": [
    "data = pd.DataFrame(tv.fit_transform(corpus).toarray(),\n",
    "                    columns=tv.get_feature_names_out())"
   ]
  },
  {
   "cell_type": "code",
   "execution_count": 53,
   "id": "b02b6545-649f-4514-8004-d0792fe5ac80",
   "metadata": {},
   "outputs": [
    {
     "data": {
      "text/html": [
       "<div>\n",
       "<style scoped>\n",
       "    .dataframe tbody tr th:only-of-type {\n",
       "        vertical-align: middle;\n",
       "    }\n",
       "\n",
       "    .dataframe tbody tr th {\n",
       "        vertical-align: top;\n",
       "    }\n",
       "\n",
       "    .dataframe thead th {\n",
       "        text-align: right;\n",
       "    }\n",
       "</style>\n",
       "<table border=\"1\" class=\"dataframe\">\n",
       "  <thead>\n",
       "    <tr style=\"text-align: right;\">\n",
       "      <th></th>\n",
       "      <th>bedroom</th>\n",
       "      <th>big</th>\n",
       "      <th>brown</th>\n",
       "      <th>dog</th>\n",
       "      <th>house</th>\n",
       "      <th>likes</th>\n",
       "      <th>number</th>\n",
       "      <th>play</th>\n",
       "      <th>small</th>\n",
       "      <th>street</th>\n",
       "    </tr>\n",
       "  </thead>\n",
       "  <tbody>\n",
       "    <tr>\n",
       "      <th>0</th>\n",
       "      <td>0.000000</td>\n",
       "      <td>0.353553</td>\n",
       "      <td>0.353553</td>\n",
       "      <td>0.000000</td>\n",
       "      <td>0.707107</td>\n",
       "      <td>0.000000</td>\n",
       "      <td>0.353553</td>\n",
       "      <td>0.000000</td>\n",
       "      <td>0.000000</td>\n",
       "      <td>0.353553</td>\n",
       "    </tr>\n",
       "    <tr>\n",
       "      <th>1</th>\n",
       "      <td>0.353553</td>\n",
       "      <td>0.000000</td>\n",
       "      <td>0.000000</td>\n",
       "      <td>0.000000</td>\n",
       "      <td>0.707107</td>\n",
       "      <td>0.000000</td>\n",
       "      <td>0.353553</td>\n",
       "      <td>0.000000</td>\n",
       "      <td>0.353553</td>\n",
       "      <td>0.353553</td>\n",
       "    </tr>\n",
       "    <tr>\n",
       "      <th>2</th>\n",
       "      <td>0.000000</td>\n",
       "      <td>0.000000</td>\n",
       "      <td>0.377964</td>\n",
       "      <td>0.755929</td>\n",
       "      <td>0.000000</td>\n",
       "      <td>0.377964</td>\n",
       "      <td>0.000000</td>\n",
       "      <td>0.377964</td>\n",
       "      <td>0.000000</td>\n",
       "      <td>0.000000</td>\n",
       "    </tr>\n",
       "    <tr>\n",
       "      <th>3</th>\n",
       "      <td>0.707107</td>\n",
       "      <td>0.000000</td>\n",
       "      <td>0.000000</td>\n",
       "      <td>0.707107</td>\n",
       "      <td>0.000000</td>\n",
       "      <td>0.000000</td>\n",
       "      <td>0.000000</td>\n",
       "      <td>0.000000</td>\n",
       "      <td>0.000000</td>\n",
       "      <td>0.000000</td>\n",
       "    </tr>\n",
       "  </tbody>\n",
       "</table>\n",
       "</div>"
      ],
      "text/plain": [
       "    bedroom       big     brown       dog     house     likes    number  \\\n",
       "0  0.000000  0.353553  0.353553  0.000000  0.707107  0.000000  0.353553   \n",
       "1  0.353553  0.000000  0.000000  0.000000  0.707107  0.000000  0.353553   \n",
       "2  0.000000  0.000000  0.377964  0.755929  0.000000  0.377964  0.000000   \n",
       "3  0.707107  0.000000  0.000000  0.707107  0.000000  0.000000  0.000000   \n",
       "\n",
       "       play     small    street  \n",
       "0  0.000000  0.000000  0.353553  \n",
       "1  0.000000  0.353553  0.353553  \n",
       "2  0.377964  0.000000  0.000000  \n",
       "3  0.000000  0.000000  0.000000  "
      ]
     },
     "execution_count": 53,
     "metadata": {},
     "output_type": "execute_result"
    }
   ],
   "source": [
    "data"
   ]
  },
  {
   "cell_type": "markdown",
   "id": "b7b26ee5-4207-41a8-8980-9124612f2b9e",
   "metadata": {},
   "source": [
    "## Text Classification"
   ]
  },
  {
   "cell_type": "code",
   "execution_count": 61,
   "id": "a3b3dc8f-8ad6-47fe-b8c1-58d00d346279",
   "metadata": {},
   "outputs": [],
   "source": [
    "data = pd.read_csv('SPAM text message 20170820 - Data.csv')"
   ]
  },
  {
   "cell_type": "code",
   "execution_count": 63,
   "id": "5c1d7810-979c-47fb-a1cd-96292fcbd91f",
   "metadata": {},
   "outputs": [
    {
     "data": {
      "text/html": [
       "<div>\n",
       "<style scoped>\n",
       "    .dataframe tbody tr th:only-of-type {\n",
       "        vertical-align: middle;\n",
       "    }\n",
       "\n",
       "    .dataframe tbody tr th {\n",
       "        vertical-align: top;\n",
       "    }\n",
       "\n",
       "    .dataframe thead th {\n",
       "        text-align: right;\n",
       "    }\n",
       "</style>\n",
       "<table border=\"1\" class=\"dataframe\">\n",
       "  <thead>\n",
       "    <tr style=\"text-align: right;\">\n",
       "      <th></th>\n",
       "      <th>Category</th>\n",
       "      <th>Message</th>\n",
       "    </tr>\n",
       "  </thead>\n",
       "  <tbody>\n",
       "    <tr>\n",
       "      <th>0</th>\n",
       "      <td>ham</td>\n",
       "      <td>Go until jurong point, crazy.. Available only ...</td>\n",
       "    </tr>\n",
       "    <tr>\n",
       "      <th>1</th>\n",
       "      <td>ham</td>\n",
       "      <td>Ok lar... Joking wif u oni...</td>\n",
       "    </tr>\n",
       "    <tr>\n",
       "      <th>2</th>\n",
       "      <td>spam</td>\n",
       "      <td>Free entry in 2 a wkly comp to win FA Cup fina...</td>\n",
       "    </tr>\n",
       "    <tr>\n",
       "      <th>3</th>\n",
       "      <td>ham</td>\n",
       "      <td>U dun say so early hor... U c already then say...</td>\n",
       "    </tr>\n",
       "    <tr>\n",
       "      <th>4</th>\n",
       "      <td>ham</td>\n",
       "      <td>Nah I don't think he goes to usf, he lives aro...</td>\n",
       "    </tr>\n",
       "    <tr>\n",
       "      <th>...</th>\n",
       "      <td>...</td>\n",
       "      <td>...</td>\n",
       "    </tr>\n",
       "    <tr>\n",
       "      <th>5567</th>\n",
       "      <td>spam</td>\n",
       "      <td>This is the 2nd time we have tried 2 contact u...</td>\n",
       "    </tr>\n",
       "    <tr>\n",
       "      <th>5568</th>\n",
       "      <td>ham</td>\n",
       "      <td>Will ü b going to esplanade fr home?</td>\n",
       "    </tr>\n",
       "    <tr>\n",
       "      <th>5569</th>\n",
       "      <td>ham</td>\n",
       "      <td>Pity, * was in mood for that. So...any other s...</td>\n",
       "    </tr>\n",
       "    <tr>\n",
       "      <th>5570</th>\n",
       "      <td>ham</td>\n",
       "      <td>The guy did some bitching but I acted like i'd...</td>\n",
       "    </tr>\n",
       "    <tr>\n",
       "      <th>5571</th>\n",
       "      <td>ham</td>\n",
       "      <td>Rofl. Its true to its name</td>\n",
       "    </tr>\n",
       "  </tbody>\n",
       "</table>\n",
       "<p>5572 rows × 2 columns</p>\n",
       "</div>"
      ],
      "text/plain": [
       "     Category                                            Message\n",
       "0         ham  Go until jurong point, crazy.. Available only ...\n",
       "1         ham                      Ok lar... Joking wif u oni...\n",
       "2        spam  Free entry in 2 a wkly comp to win FA Cup fina...\n",
       "3         ham  U dun say so early hor... U c already then say...\n",
       "4         ham  Nah I don't think he goes to usf, he lives aro...\n",
       "...       ...                                                ...\n",
       "5567     spam  This is the 2nd time we have tried 2 contact u...\n",
       "5568      ham               Will ü b going to esplanade fr home?\n",
       "5569      ham  Pity, * was in mood for that. So...any other s...\n",
       "5570      ham  The guy did some bitching but I acted like i'd...\n",
       "5571      ham                         Rofl. Its true to its name\n",
       "\n",
       "[5572 rows x 2 columns]"
      ]
     },
     "execution_count": 63,
     "metadata": {},
     "output_type": "execute_result"
    }
   ],
   "source": [
    "data"
   ]
  },
  {
   "cell_type": "code",
   "execution_count": 65,
   "id": "c790a709-dff5-4357-83bf-e0c5695c5971",
   "metadata": {},
   "outputs": [],
   "source": [
    "from sklearn.model_selection import train_test_split\n",
    "\n",
    "X_train, X_test, Y_train, Y_test = train_test_split(data['Message'],\n",
    "                                                    data['Category'],\n",
    "                                                    test_size=0.2)"
   ]
  },
  {
   "cell_type": "code",
   "execution_count": 67,
   "id": "e7347a83-e9fa-4fa4-8203-e7ce071371a5",
   "metadata": {},
   "outputs": [
    {
     "name": "stdout",
     "output_type": "stream",
     "text": [
      "Training class distributions summary: Counter({'ham': 3869, 'spam': 588})\n",
      "Test class distributions summary: Counter({'ham': 956, 'spam': 159})\n"
     ]
    }
   ],
   "source": [
    "from collections import Counter\n",
    "\n",
    "print(f\"Training class distributions summary: {Counter(Y_train)}\")\n",
    "print(f\"Test class distributions summary: {Counter(Y_test)}\")"
   ]
  },
  {
   "cell_type": "code",
   "execution_count": 69,
   "id": "9977d0b3-dcbd-4092-ab13-6cf20260a0c8",
   "metadata": {},
   "outputs": [],
   "source": [
    "#Note: The make_pipeline() method is used to create a pipeline using\n",
    "#the provided estimators.\n",
    "#Note: We can use it when we want to perform operations step by\n",
    "#step on some dataset.\n",
    "from sklearn.naive_bayes import MultinomialNB\n",
    "from sklearn.pipeline import make_pipeline\n",
    "\n",
    "model = make_pipeline(TfidfVectorizer(), MultinomialNB())\n",
    "model.fit(X_train, Y_train)\n",
    "\n",
    "y_pred = model.predict(X_test)"
   ]
  },
  {
   "cell_type": "markdown",
   "id": "8cef211a-47cf-41bc-a1cd-06a53b1bd36f",
   "metadata": {},
   "source": [
    "MultinomialNB е специјално дизајниран за задачи каде што се работи со категоријални податоци или нумерички податоци кои следат мулти-номинален распределба. Во случај на текстуална класификација, ова значи дека го претставува бројот на појавувања на зборови (термини) како високи бројеви."
   ]
  },
  {
   "cell_type": "code",
   "execution_count": 71,
   "id": "7d2b8086-dcd2-4884-8123-ac385d238761",
   "metadata": {},
   "outputs": [
    {
     "name": "stdout",
     "output_type": "stream",
     "text": [
      "                   pre       rec       spe        f1       geo       iba       sup\n",
      "\n",
      "        ham       0.95      1.00      0.70      0.98      0.84      0.73       956\n",
      "       spam       1.00      0.70      1.00      0.83      0.84      0.68       159\n",
      "\n",
      "avg / total       0.96      0.96      0.75      0.95      0.84      0.72      1115\n",
      "\n"
     ]
    }
   ],
   "source": [
    "from imblearn.metrics import classification_report_imbalanced\n",
    "\n",
    "print(classification_report_imbalanced(Y_test, y_pred))"
   ]
  },
  {
   "cell_type": "code",
   "execution_count": 77,
   "id": "f395a247-a990-4952-8c74-eba49faec89c",
   "metadata": {},
   "outputs": [],
   "source": [
    "#Note: Undersampling is a technique used to balance uneven datasets\n",
    "#by keeping all of the data from the minority class and decreasing the\n",
    "#size of data of the majority class.\n",
    "from imblearn.pipeline import make_pipeline as make_pipeline_imb\n",
    "from imblearn.under_sampling import RandomUnderSampler\n",
    "\n",
    "model = make_pipeline_imb(TfidfVectorizer(),\n",
    "                          RandomUnderSampler(),\n",
    "                          MultinomialNB())\n",
    "model.fit(X_train, Y_train)\n",
    "\n",
    "y_pred = model.predict(X_test)"
   ]
  },
  {
   "cell_type": "markdown",
   "id": "f3646b8b-fe97-43a1-9763-f0b81f55e331",
   "metadata": {},
   "source": [
    "RandomUnderSampler(): Ова е техниката за балансирање на класите во податоците. Таа случајно ги отстранува примероците од поголемата класа (класата со повеќе примери), така што ќе имате рамномерно распределени класи.\n",
    "\n",
    "RandomUnderSampler е корисен кога имате нерамнотежени податоци (на пример, еден клас има значително повеќе примери од други класи)."
   ]
  },
  {
   "cell_type": "code",
   "execution_count": 75,
   "id": "4b36b56c-f498-4ad2-82d0-7d14b3419e9b",
   "metadata": {},
   "outputs": [
    {
     "name": "stdout",
     "output_type": "stream",
     "text": [
      "                   pre       rec       spe        f1       geo       iba       sup\n",
      "\n",
      "        ham       0.99      0.95      0.96      0.97      0.96      0.92       956\n",
      "       spam       0.77      0.96      0.95      0.86      0.96      0.92       159\n",
      "\n",
      "avg / total       0.96      0.95      0.96      0.96      0.96      0.92      1115\n",
      "\n"
     ]
    }
   ],
   "source": [
    "print(classification_report_imbalanced(Y_test, y_pred))"
   ]
  }
 ],
 "metadata": {
  "kernelspec": {
   "display_name": "Python 3 (ipykernel)",
   "language": "python",
   "name": "python3"
  },
  "language_info": {
   "codemirror_mode": {
    "name": "ipython",
    "version": 3
   },
   "file_extension": ".py",
   "mimetype": "text/x-python",
   "name": "python",
   "nbconvert_exporter": "python",
   "pygments_lexer": "ipython3",
   "version": "3.12.4"
  }
 },
 "nbformat": 4,
 "nbformat_minor": 5
}
